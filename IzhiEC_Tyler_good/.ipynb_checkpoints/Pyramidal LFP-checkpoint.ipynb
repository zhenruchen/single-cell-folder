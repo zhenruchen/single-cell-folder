{
 "cells": [
  {
   "cell_type": "code",
   "execution_count": 11,
   "metadata": {},
   "outputs": [
    {
     "name": "stdout",
     "output_type": "stream",
     "text": [
      "Populating the interactive namespace from numpy and matplotlib\n"
     ]
    }
   ],
   "source": [
    "%pylab inline"
   ]
  },
  {
   "cell_type": "markdown",
   "metadata": {},
   "source": [
    "\n",
    "\n",
    "\n",
    "# Example 2: Extracellular response of synaptic input\n",
    "This is an example of **``LFPy``** running in an **``IPython notebook``**. To run through this example code and produce output, press **``<shift-Enter>``** in each code block below.\n",
    "\n",
    "First step is to **import ``LFPy``** and other packages for analysis and plotting:"
   ]
  },
  {
   "cell_type": "code",
   "execution_count": 12,
   "metadata": {},
   "outputs": [],
   "source": [
    "import LFPy"
   ]
  },
  {
   "cell_type": "markdown",
   "metadata": {},
   "source": [
    "Create some dictionarys with parameters for cell, synapse and extracellular electrode:"
   ]
  },
  {
   "cell_type": "code",
   "execution_count": 13,
   "metadata": {},
   "outputs": [],
   "source": [
    "simplecellParameters = {\n",
    "    'morphology' : 'simple_pyrtypeC_LFPy.hoc',\n",
    "    'tstart' : -50,\n",
    "    'tstop' : 1000,\n",
    "    'dt' : 2**-4,\n",
    "}\n",
    "\n",
    "excSynapseParameters = {\n",
    "    'syntype' : 'Exp2Syn',\n",
    "    'e' : -20,\n",
    "    'tau1' : 0.5,\n",
    "    'tau2' : 2.0,\n",
    "    'weight' : 0.009,\n",
    "    'record_current' : True,\n",
    "}\n",
    "\n",
    "inhSynapseParameters = {\n",
    "    'syntype' : 'Exp2Syn',\n",
    "    'e' : -70,\n",
    "    'tau1' : 0.5,\n",
    "    'tau2' : 5.0,\n",
    "    'weight' : 0.003,\n",
    "    'record_current' : True,\n",
    "}\n",
    "\n",
    "z = mgrid[-400:1201:100]\n",
    "electrodeParameters = {\n",
    "    'x' : zeros(z.size),\n",
    "    'y' : zeros(z.size),\n",
    "    'z' : z,\n",
    "    'sigma' : 0.3,\n",
    "}"
   ]
  },
  {
   "cell_type": "markdown",
   "metadata": {},
   "source": [
    "Then, create the **cell**, **synapse** and **electrode** objects using \n",
    "**LFPy.Cell**, **LFPy.Synapse**, **LFPy.RecExtElectrode**."
   ]
  },
  {
   "cell_type": "code",
   "execution_count": 14,
   "metadata": {},
   "outputs": [],
   "source": [
    "# Cell 1\n",
    "simplecell = LFPy.Cell(**simplecellParameters)\n",
    "simplecell.set_pos(x=-250, y=0, z=0)\n",
    "simplecell.set_rotation(z=np.pi)\n",
    "\n",
    "\n",
    "synapse_soma = LFPy.Synapse(simplecell,\n",
    "                       idx = simplecell.get_closest_idx(x=-250,z=0),\n",
    "                       **inhSynapseParameters)\n",
    "\n",
    "synapse_axon = LFPy.Synapse(simplecell,\n",
    "                       idx = simplecell.get_closest_idx(x=-202.5,z=0),\n",
    "                       **excSynapseParameters)\n",
    "\n",
    "synapse_dend = LFPy.Synapse(simplecell,\n",
    "                       idx = simplecell.get_closest_idx(x=-202.5,z=500),\n",
    "                       **excSynapseParameters)\n",
    "\n",
    "synapse_soma.set_spike_times(array([602,606,610,614,618,622,702,706,710,714,718,722]))\n",
    "synapse_axon.set_spike_times(array([100,102,104,600,604,608,612,616,620,624]))\n",
    "synapse_dend.set_spike_times(array([700,704,708,712,716,720,724]))\n",
    "                        \n",
    "\n",
    "electrode = LFPy.RecExtElectrode(**electrodeParameters)"
   ]
  },
  {
   "cell_type": "markdown",
   "metadata": {},
   "source": [
    "Run the simulation with **electrode** as input to **cell.simulate()**"
   ]
  },
  {
   "cell_type": "code",
   "execution_count": 15,
   "metadata": {},
   "outputs": [],
   "source": [
    "import neuron\n",
    "def record_axon(Cell):\n",
    "    \"\"\"\n",
    "    Record membrane potentials for axonal segments\n",
    "    \"\"\"\n",
    "    axonvreclist = neuron.h.List()\n",
    "    for sec in Cell.allseclist:\n",
    "        if ~sec.name().find('axon'):\n",
    "            memvrec = neuron.h.Vector(int(Cell.tstop / Cell.dt+1))\n",
    "            memvrec.record(sec(0.5)._ref_v, Cell.dt)\n",
    "            axonvreclist.append(memvrec)\n",
    "    return axonvreclist\n",
    "\n",
    "\n",
    "axonvlist = record_axon(simplecell)\n",
    "\n",
    "simplecell.simulate(electrode=electrode)"
   ]
  },
  {
   "cell_type": "markdown",
   "metadata": {},
   "source": [
    "Then plot the **somatic potential** and the **LFP**\n",
    "from electrode object:"
   ]
  },
  {
   "cell_type": "code",
   "execution_count": 16,
   "metadata": {},
   "outputs": [
    {
     "data": {
      "text/plain": [
       "\"\\nsubplot(223)\\nfor sec in LFPy.cell.neuron.h.allsec():\\n    idx = detailedcell.get_idx(sec.name())\\n    plot(np.r_[detailedcell.xstart[idx], detailedcell.xend[idx][-1]],\\n            np.r_[detailedcell.zstart[idx], detailedcell.zend[idx][-1]],\\n            color='k')\\nplot(-250,0,color='black',marker='o',markersize=10,label='soma')\\nplot([detailedcell.synapses[0].x], [detailedcell.synapses[0].z],      color='r', marker='o', markersize=5,label='synapse')\\nplot(electrode.x, electrode.z, '.', marker='o', color='g',label='electrodes')\\n\\nxlabel('distance (um)')\\nlegend()\\naxis([-500, 50, -150, 400])\\n\\nsubplot(224)\\npcolormesh(detailedcell.tvec, electrode.z, electrode.LFP,\\n           vmin=-abs(electrode.LFP).max(), vmax=abs(electrode.LFP).max(),\\n           cmap='inferno'), colorbar(), title('LFP (mV)')\\nylabel('distance(um)')\\nxlabel('time(ms)')\\n\""
      ]
     },
     "execution_count": 16,
     "metadata": {},
     "output_type": "execute_result"
    }
   ],
   "source": [
    "%matplotlib qt\n",
    "\n",
    "figure(figsize=(12, 6))\n",
    "subplot(221)\n",
    "for sec in LFPy.cell.neuron.h.allsec():\n",
    "    idx = simplecell.get_idx(sec.name())\n",
    "    plot(np.r_[simplecell.xstart[idx], simplecell.xend[idx][-1]],\n",
    "            np.r_[simplecell.zstart[idx], simplecell.zend[idx][-1]],\n",
    "            color='k')\n",
    "plot(-250,-10,color='black',marker='o',markersize=10,label='soma')\n",
    "plot([simplecell.synapses[0].x], [simplecell.synapses[0].z], \\\n",
    "     color='r', marker='o', markersize=5,label='synapse')\n",
    "plot([simplecell.synapses[1].x], [simplecell.synapses[1].z], \\\n",
    "     color='r', marker='o', markersize=5,label='synapse')\n",
    "plot(electrode.x, electrode.z, '.', marker='o', color='g',label='electrodes')\n",
    "\n",
    "xlabel('distance (um)')\n",
    "legend()\n",
    "axis([-1000, 1000, -400, 1200])\n",
    "\n",
    "subplot(222)\n",
    "pcolormesh(simplecell.tvec, electrode.z, electrode.LFP,\n",
    "           vmin=-abs(electrode.LFP).max(), vmax=abs(electrode.LFP).max(),\n",
    "           cmap='inferno'), colorbar(), title('LFP (mV)')\n",
    "ylabel('distance(um)')\n",
    "xlabel('time(ms)')\n",
    "xlim(450,800)\n",
    "\n",
    "'''\n",
    "subplot(223)\n",
    "for sec in LFPy.cell.neuron.h.allsec():\n",
    "    idx = detailedcell.get_idx(sec.name())\n",
    "    plot(np.r_[detailedcell.xstart[idx], detailedcell.xend[idx][-1]],\n",
    "            np.r_[detailedcell.zstart[idx], detailedcell.zend[idx][-1]],\n",
    "            color='k')\n",
    "plot(-250,0,color='black',marker='o',markersize=10,label='soma')\n",
    "plot([detailedcell.synapses[0].x], [detailedcell.synapses[0].z], \\\n",
    "     color='r', marker='o', markersize=5,label='synapse')\n",
    "plot(electrode.x, electrode.z, '.', marker='o', color='g',label='electrodes')\n",
    "\n",
    "xlabel('distance (um)')\n",
    "legend()\n",
    "axis([-500, 50, -150, 400])\n",
    "\n",
    "subplot(224)\n",
    "pcolormesh(detailedcell.tvec, electrode.z, electrode.LFP,\n",
    "           vmin=-abs(electrode.LFP).max(), vmax=abs(electrode.LFP).max(),\n",
    "           cmap='inferno'), colorbar(), title('LFP (mV)')\n",
    "ylabel('distance(um)')\n",
    "xlabel('time(ms)')\n",
    "'''\n",
    "\n",
    "#savefig('LFPy-example-2.pdf', dpi=300)"
   ]
  },
  {
   "cell_type": "code",
   "execution_count": 17,
   "metadata": {},
   "outputs": [],
   "source": [
    "%matplotlib qt\n",
    "figure(figsize=(12, 6))\n",
    "subplot(3,1,1)\n",
    "plot(simplecell.tvec,electrode.LFP[4,:],'k')\n",
    "title('extracellular voltage (mV)')\n",
    "xlim(450,800)\n",
    "#text(500,-0.0005,'^Syn. at dend.')\n",
    "#text(700,-0.0005,'^Syn. at axon')\n",
    "\n",
    "subplot(3,1,2)\n",
    "for x in axonvlist:\n",
    "    y = np.array(x)\n",
    "    plot(simplecell.tvec,y,label='{}'.format(x))\n",
    "    title('intracellular axonal voltage (mV)')\n",
    "    xlim(450,800)\n",
    "    \n",
    "subplot(3,1,3)\n",
    "plot(simplecell.tvec, simplecell.somav, 'k'), title('somatic voltage (mV)')\n",
    "xlim(450,800)\n",
    "xlabel('time(ms)')\n",
    "\n",
    "#subplot(211)\n",
    "#plot(simplecell.tvec, synapse_simp.i, 'r'), title('synaptic current (pA)')\n",
    "#subplot(212)\n",
    "\n",
    "\n",
    "show()"
   ]
  },
  {
   "cell_type": "code",
   "execution_count": null,
   "metadata": {},
   "outputs": [],
   "source": []
  }
 ],
 "metadata": {
  "kernelspec": {
   "display_name": "Python 2",
   "language": "python",
   "name": "python2"
  },
  "language_info": {
   "codemirror_mode": {
    "name": "ipython",
    "version": 2
   },
   "file_extension": ".py",
   "mimetype": "text/x-python",
   "name": "python",
   "nbconvert_exporter": "python",
   "pygments_lexer": "ipython2",
   "version": "2.7.15"
  }
 },
 "nbformat": 4,
 "nbformat_minor": 1
}
